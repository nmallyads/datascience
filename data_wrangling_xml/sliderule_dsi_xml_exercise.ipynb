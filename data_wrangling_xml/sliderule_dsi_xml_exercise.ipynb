{
 "cells": [
  {
   "cell_type": "markdown",
   "metadata": {},
   "source": [
    "# XML example and exercise\n",
    "****\n",
    "+ study examples of accessing nodes in XML tree structure  \n",
    "+ work on exercise to be completed and submitted\n",
    "****\n",
    "+ reference: https://docs.python.org/2.7/library/xml.etree.elementtree.html\n",
    "+ data source: http://www.dbis.informatik.uni-goettingen.de/Mondial\n",
    "****"
   ]
  },
  {
   "cell_type": "code",
   "execution_count": 2,
   "metadata": {
    "collapsed": true
   },
   "outputs": [],
   "source": [
    "from xml.etree import ElementTree as ET"
   ]
  },
  {
   "cell_type": "markdown",
   "metadata": {},
   "source": [
    "## XML example\n",
    "\n",
    "+ for details about tree traversal and iterators, see https://docs.python.org/2.7/library/xml.etree.elementtree.html"
   ]
  },
  {
   "cell_type": "code",
   "execution_count": 3,
   "metadata": {
    "collapsed": true
   },
   "outputs": [],
   "source": [
    "document_tree = ET.parse( './data/mondial_database_less.xml' )"
   ]
  },
  {
   "cell_type": "code",
   "execution_count": 4,
   "metadata": {
    "collapsed": false
   },
   "outputs": [
    {
     "name": "stdout",
     "output_type": "stream",
     "text": [
      "Albania\n",
      "Greece\n",
      "Macedonia\n",
      "Serbia\n",
      "Montenegro\n",
      "Kosovo\n",
      "Andorra\n"
     ]
    }
   ],
   "source": [
    "# print names of all countries\n",
    "for child in document_tree.getroot():\n",
    "    print child.find('name').text"
   ]
  },
  {
   "cell_type": "code",
   "execution_count": 5,
   "metadata": {
    "collapsed": false
   },
   "outputs": [
    {
     "name": "stdout",
     "output_type": "stream",
     "text": [
      "* Albania: Tirana, Shkodër, Durrës, Vlorë, Elbasan, Korçë\n",
      "* Greece: Komotini, Kavala, Athina, Peiraias, Peristeri, Acharnes, Patra, Kozani, Kerkyra, Ioannina, Thessaloniki, Iraklio, Chania, Ermoupoli, Rhodes, Tripoli, Lamia, Chalkida, Larissa, Volos, Mytilini, Karyes\n",
      "* Macedonia: Skopje, Kumanovo\n",
      "* Serbia: Beograd, Novi Sad, Niš\n",
      "* Montenegro: Podgorica\n",
      "* Kosovo: Prishtine\n",
      "* Andorra: Andorra la Vella\n"
     ]
    }
   ],
   "source": [
    "# print names of all countries and their cities\n",
    "for element in document_tree.iterfind('country'):\n",
    "    print '* ' + element.find('name').text + ':',\n",
    "    capitals_string = ''\n",
    "    for subelement in element.getiterator('city'):\n",
    "        capitals_string += subelement.find('name').text + ', '\n",
    "    print capitals_string[:-2]"
   ]
  },
  {
   "cell_type": "markdown",
   "metadata": {},
   "source": [
    "****\n",
    "## XML exercise\n",
    "\n",
    "Using data in 'data/mondial_database.xml', the examples above, and refering to https://docs.python.org/2.7/library/xml.etree.elementtree.html, find\n",
    "\n",
    "1. 10 countries with the lowest infant mortality rates\n",
    "2. 10 cities with the largest population\n",
    "3. 10 ethnic groups with the largest overall populations (sum of best/latest estimates over all countries)\n",
    "4. name and country of a) longest river, b) largest lake and c) airport at highest elevation"
   ]
  },
  {
   "cell_type": "code",
   "execution_count": 6,
   "metadata": {
    "collapsed": false
   },
   "outputs": [],
   "source": [
    "document = ET.parse( './data/mondial_database.xml' )"
   ]
  },
  {
   "cell_type": "code",
   "execution_count": 7,
   "metadata": {
    "collapsed": false
   },
   "outputs": [
    {
     "data": {
      "text/plain": [
       "<xml.etree.ElementTree.ElementTree at 0x1074d2e90>"
      ]
     },
     "execution_count": 7,
     "metadata": {},
     "output_type": "execute_result"
    }
   ],
   "source": [
    "document"
   ]
  },
  {
   "cell_type": "code",
   "execution_count": 8,
   "metadata": {
    "collapsed": false
   },
   "outputs": [
    {
     "name": "stdout",
     "output_type": "stream",
     "text": [
      "10 countries with the lowest infant mortality rates\n",
      "Monaco                   1.81\n",
      "Romania                 10.16\n",
      "Fiji                     10.2\n",
      "Brunei                  10.48\n",
      "Grenada                  10.5\n",
      "Mauritius               10.59\n",
      "Panama                   10.7\n",
      "Seychelles              10.77\n",
      "United Arab Emirates    10.92\n",
      "Barbados                10.93\n",
      "dtype: object\n"
     ]
    }
   ],
   "source": [
    "# 10 countries with the lowest infant mortality rates\n",
    "import pandas as pd\n",
    "import xml.etree.ElementTree as ET\n",
    "tree = ET.parse('./data/mondial_database.xml')\n",
    "\n",
    "root = tree.getroot()\n",
    "infant_mort_dict = {}\n",
    "\n",
    "\n",
    "for child in root:\n",
    "    im = child.find('infant_mortality')\n",
    "    if( im is not None):\n",
    "        country = child.find('name').text\n",
    "        infant_mort_dict[country] = im.text   \n",
    "    \n",
    "im_series = pd.Series(infant_mort_dict).sort_values(ascending = True)\n",
    "print('10 countries with the lowest infant mortality rates')\n",
    "print(im_series[:10])"
   ]
  },
  {
   "cell_type": "code",
   "execution_count": 21,
   "metadata": {
    "collapsed": false
   },
   "outputs": [
    {
     "name": "stdout",
     "output_type": "stream",
     "text": [
      "10 cities with the largest population (in 2011)\n",
      "Mumbai       12442373\n",
      "Delhi        11034555\n",
      "Bangalore     8443675\n",
      "Tehran        8154051\n",
      "Dhaka         7423137\n",
      "Hyderabad     6731790\n",
      "Ahmadabad     5577940\n",
      "Luanda        5000000\n",
      "Chennai       4646732\n",
      "Sydney        4605992\n",
      "dtype: int64\n"
     ]
    }
   ],
   "source": [
    "largest_pop_dict = {}\n",
    "for element in root.iterfind('country'):\n",
    "\n",
    "# find cities within the 'province' element    \n",
    "    for subelement in element.getiterator('province'):\n",
    "        province_name = subelement.find('name').text\n",
    "        for city in subelement.getiterator('city'):\n",
    "            for population in city.getiterator('population'):\n",
    "                if(population is not None):\n",
    "                    population_year = int(population.get('year'))\n",
    "                    #print(province_name + ':' + city.find('name').text + ':' + str(population_year) + ':' + population.text )\n",
    "                    if(population_year == 2011):\n",
    "                        #print(province_name + ': ' + city.find('name').text + ': ' + str(population_year) + ': ' + population.text )\n",
    "                        key = city.find('name').text\n",
    "                        value = int(population.text)\n",
    "                        largest_pop_dict[key] = value   \n",
    "                    \n",
    "# find cities directly under 'country'                    \n",
    "    for subelement in element.getiterator('city'):\n",
    "        population = subelement.find('population') \n",
    "        if( population is not None):\n",
    "            city = subelement.find('name').text\n",
    "            pop_2011 = population.get('year')\n",
    "            if pop_2011 == '2011':\n",
    "                #key = element.find('name').text + '[' + city + ']'\n",
    "                key = city\n",
    "                value = int(population.text)\n",
    "                largest_pop_dict[key] = value   \n",
    "                    \n",
    "                    \n",
    "largest_pop_series = pd.Series(largest_pop_dict).sort_values(ascending = False)\n",
    "print('10 cities with the largest population (in 2011)')\n",
    "print(largest_pop_series[:10])     "
   ]
  },
  {
   "cell_type": "code",
   "execution_count": null,
   "metadata": {
    "collapsed": true
   },
   "outputs": [],
   "source": []
  }
 ],
 "metadata": {
  "kernelspec": {
   "display_name": "Python 2",
   "language": "python",
   "name": "python2"
  },
  "language_info": {
   "codemirror_mode": {
    "name": "ipython",
    "version": 2
   },
   "file_extension": ".py",
   "mimetype": "text/x-python",
   "name": "python",
   "nbconvert_exporter": "python",
   "pygments_lexer": "ipython2",
   "version": "2.7.11"
  }
 },
 "nbformat": 4,
 "nbformat_minor": 0
}
